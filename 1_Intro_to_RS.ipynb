{
  "cells": [
    {
      "cell_type": "markdown",
      "metadata": {},
      "source": [
        "# Wk 1 Introduction to Remote Sensing\n",
        "\n",
        "## Summary\n",
        "\n",
        "As a relative newbie to Remote Sensing there was so much new information this week that it's very difficult to choose even a few things to talk about without writing an whole essay. Therefore I have decided that the best way to summarise this would be through @fig-rs_mindmap.\n",
        "\n",
        "\n",
        "\n",
        "```{lightbox}\n",
        "![Remote Sensing Intro](images/RS_intro_mindmap.png){.lightbox}\n",
        "```\n",
        "\n",
        "\n",
        "\n",
        "\n",
        "## Application\n",
        "\n",
        "For a specific topic from this week identify two readings and summarise them and then provide a comparison of the two. Raise any questions related to the topic.\n",
        "\n",
        "??Look at how bands differ between sensor (Landsat and Sentinel) and also how different bands can be combined for different purposes??\n",
        "\n",
        "### Reading 1\n",
        "\n",
        "Talk about key findings from this reading\n",
        "\n",
        "### Reading 2\n",
        "\n",
        "Then talk about key findings from this reading\n",
        "\n",
        "### Comparison\n",
        "\n",
        "Provide a comparison between the two readings, but ensure that individual thought is included. So do I agree with what is discussed, could further clarification or research benefit the article.\n",
        "\n",
        "## Reflection\n",
        "\n",
        "Discuss how the skills, tools, etc. could be put into practice and how this could or could not be useful in future."
      ],
      "id": "fb3ca2d0"
    }
  ],
  "metadata": {
    "kernelspec": {
      "display_name": "Python 3",
      "language": "python",
      "name": "python3"
    }
  },
  "nbformat": 4,
  "nbformat_minor": 5
}